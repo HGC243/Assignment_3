{
 "cells": [
  {
   "cell_type": "code",
   "execution_count": 1,
   "metadata": {},
   "outputs": [],
   "source": [
    "## Imports and global settings\n",
    "from urllib.request import urlopen\n",
    "from bs4 import BeautifulSoup\n",
    "import requests\n",
    "import re\n",
    "import pandas as pd\n",
    "import numpy as np\n",
    "import spacy\n",
    "from spacy import displacy\n",
    "from spacy.lang.en import English\n",
    "from spacytextblob.spacytextblob import SpacyTextBlob\n",
    "from collections import Counter\n",
    "import en_core_web_sm\n",
    "import de_core_news_sm\n",
    "from nltk.stem.wordnet import WordNetLemmatizer\n",
    "from nltk import word_tokenize\n",
    "from nltk.sentiment import SentimentIntensityAnalyzer\n",
    "from sklearn.feature_extraction.text import CountVectorizer\n",
    "\n",
    "pd.set_option('display.max_rows', 100)\n"
   ]
  },
  {
   "cell_type": "code",
   "execution_count": 20,
   "metadata": {},
   "outputs": [
    {
     "name": "stdout",
     "output_type": "stream",
     "text": [
      "\n"
     ]
    }
   ],
   "source": [
    "## Scrape website List of place names of German origin in the United States \n",
    "url = 'https://en.wikipedia.org/wiki/List_of_place_names_of_German_origin_in_the_United_States'\n",
    "html = urlopen(url) \n",
    "soup = BeautifulSoup(html, 'html.parser')\n",
    "tables = soup.find_all('table')\n",
    "\n",
    "place_names = []\n",
    "states = []\n",
    "origin_notes = []\n",
    "place = []\n",
    "cells_holder = []\n",
    "\n",
    "for table in tables:\n",
    "    rows = table.find_all('tr')\n",
    "    #print(rows)\n",
    "    \n",
    "    for row in rows:\n",
    "        cells = row.find_all('td')\n",
    "        #cells_holder.append(cells)\n",
    "       # print(cells)\n",
    "        \n",
    "        if len(cells) > 1:\n",
    "            try:\n",
    "                place = cells[0]\n",
    "                place_names.append(place.text.strip())\n",
    "            except:\n",
    "                print()\n",
    "        \n",
    "            try:\n",
    "                state = cells[1]\n",
    "                states.append(state.text.strip())\n",
    "  \n",
    "            except:\n",
    "                print()\n",
    "            try:\n",
    "                origin_note = cells[2]\n",
    "                origin_notes.append(origin_note.text.strip())        \n",
    "            except:\n",
    "                print()\n",
    "                \n",
    "place_names = place_names[1:]\n",
    "states = states[1:]\n",
    "#print(place_names)\n",
    "#print(len(place_names))\n",
    "#print(len(states))\n",
    "#print(states)\n",
    "#print(len(origin_notes))\n",
    "#print(origin_notes)\n",
    "\n",
    "\n",
    "## Re-create the list of German places as it is in Wikipedia\n",
    "df_german_places = pd.DataFrame()\n",
    "df_german_places['Place Name'] = place_names\n",
    "df_german_places['State'] = states\n",
    "df_german_places['Origin'] = origin_notes\n",
    "\n",
    "#df_german_places"
   ]
  },
  {
   "cell_type": "code",
   "execution_count": 28,
   "metadata": {},
   "outputs": [
    {
     "name": "stdout",
     "output_type": "stream",
     "text": [
      "['Named', 'after', 'Altdorf', ',', 'Switzerland', '.', '[', '1', ']'] ['Named', 'after', 'Altdorf', ',', 'Switzerland', '.', '[', '2', ']'] ['Named', 'after', 'Saxe-Altenburg', '.', '[', '3', ']'] ['a', 'blend', 'of', '``', 'Ana', \"''\", ',', 'after', 'the', 'nearby', 'Santa', 'Ana', 'River', ',', 'and', 'heim', ',', 'a', 'common', 'Germanic', 'place', 'name', 'compound', 'originally', 'meaning', '``', 'home', \"''\", '.', '[', '4', ']'] ['Named', 'after', 'the', 'Principality', 'of', 'Anhalt', '.', '[', '5', ']'] ['Named', 'after', 'Princess', 'Augusta', 'of', 'Saxe-Gotha', '.', '[', '6', ']'] ['Named', 'after', 'Augsburg', ',', 'Germany', '.'] ['Named', 'after', 'formerly', 'German-settled', 'Slavkov', 'u', 'Brna', '.'] ['Named', 'after', 'Baden', '.'] ['Named', 'after', 'the', 'Baden', 'region', '.'] ['Named', 'after', 'the', 'Baden', 'region', '.'] ['Named', 'after', 'William', 'Seaborn', 'Bamberg', ',', 'whose', 'grandfather', 'wa', 'an', 'immigrant', 'from', 'Germany', '.', '[', '7', ']'] ['Named', 'after', 'the', 'region', 'of', 'Bavaria', 'in', 'Germany', '.', '[', '8', ']'] ['Named', 'after', 'the', 'region', 'of', 'Bavaria', 'in', 'Germany', ',', 'with', 'German', 'Bayern', 'adjusted', 'to', 'English', 'spelling'] ['Named', 'after', 'the', 'region', 'of', 'Bavaria', 'in', 'Germany', ',', 'with', 'German', 'Bayern', 'adjusted', 'to', 'English', 'spelling'] ['unincorporated', 'community'] [] [] ['the', 'former', 'name', 'of', 'Ault', ',', 'Colorado'] ['the', 'former', 'name', 'of', 'Genevra', ',', 'California'] [] [] [] ['extinct', 'town'] [] [] [] [] ['unincorporated', 'community', 'known', 'a', 'Berlin', 'until', '1919', ',', 'and', 'the', 'name', 'remains', 'prominent', 'in', 'the', 'area'] ['the', 'former', 'name', 'of', 'Otoe', ',', 'Nebraska', ',', 'anti-German', 'sentiment', 'extended', 'to', 'a', 'town', 'that', 'bore', 'the', 'name', 'of', 'Germany', \"'s\", 'capital', '.', 'A', '1918', 'series', 'of', 'fire', 'that', 'destroyed', 'a', 'block', 'of', 'the', 'town', \"'s\", 'main', 'street', 'wa', 'attributed', 'to', 'anti-German', 'crusader', '.', 'In', 'October', '1918', ',', 'le', 'than', 'a', 'month', 'before', 'the', 'war', \"'s\", 'end', ',', 'the', 'town', \"'s\", 'name', 'wa', 'changed', 'to', 'it', 'current', 'Otoe', '.', '[', '9', ']', 'Berlin', 'Precinct', 'wa', 'left', 'unchanged', ',', 'however', '.', '[', '10', ']'] [] [] ['ghost', 'town'] [] [] [] [] [] [] [] ['unincorporated', 'town'] ['unincorporated', 'community'] [] [] [] ['town'] ['town'] [] [] [] [] [] [] [] [] [] [] [] [] [] [] [] [] [] [] [] ['Named', 'for', 'Bingen', 'am', 'Rhein', 'in', '1892', 'by', 'founder', 'P.', 'J.', 'Suksdorf', '[', '11', ']', ':19'] [] [] [] ['In', '1873', ',', 'the', 'Northern', 'Pacific', 'Railway', 'renamed', 'the', 'city', 'a', 'Bismarck', ',', 'in', 'honor', 'of', 'German', 'chancellor', 'Otto', 'von', 'Bismarck', '.', 'Railroad', 'official', 'hoped', 'to', 'attract', 'German', 'immigrant', 'settler', 'to', 'the', 'area', 'and', 'German', 'investment', 'in', 'the', 'railroad', '.', '[', '12', ']'] ['Named', 'after', 'Ludwig', 'Börne', '.'] [] [] [] [] [] [] [] [] [] [] [] ['planned', 'by', 'German', 'immigrant', 'and', 'Seattle', 'entrepreneur', 'William', 'Bremer', 'in', '1891', '[', '11', ']', ':27'] [] [] [] ['King', 'George', 'I', 'of', 'Great', 'Britain', ',', 'Duke', 'of', 'Brunswick'] ['The', 'region', 'of', 'Brunswick', 'in', 'present-day', 'Germany'] ['named', 'after', 'the', 'famed', 'spa', 'in', 'the', 'Bohemian', 'town', 'of', 'Karlsbad', '(', 'now', 'Karlovy', 'Vary', ',', 'Czech', 'Republic', ')', '[', '13', ']'] ['Named', 'after', 'Kassel', ',', 'Germany', '.'] ['Named', 'after', 'a', 'Volga', 'German', 'town', '.'] [] [] [] [] [] [] [] ['Baron', 'Johann', 'de', 'Kalb', '(', '1721–1780', ')', ',', 'a', 'German', 'soldier', 'who', 'fought', 'on', 'the', 'side', 'of', 'the', 'Americans', 'in', 'the', 'Revolutionary', 'War'] ['Baron', 'Johann', 'de', 'Kalb', '(', '1721–1780', ')', ',', 'a', 'German', 'soldier', 'who', 'fought', 'on', 'the', 'side', 'of', 'the', 'Americans', 'in', 'the', 'Revolutionary', 'War'] ['Baron', 'Johann', 'de', 'Kalb', '(', '1721–1780', ')', ',', 'a', 'German', 'soldier', 'who', 'fought', 'on', 'the', 'side', 'of', 'the', 'Americans', 'in', 'the', 'Revolutionary', 'War'] ['Baron', 'Johann', 'de', 'Kalb', '(', '1721–1780', ')', ',', 'a', 'German', 'soldier', 'who', 'fought', 'on', 'the', 'side', 'of', 'the', 'Americans', 'in', 'the', 'Revolutionary', 'War'] ['Baron', 'Johann', 'de', 'Kalb', '(', '1721–1780', ')', ',', 'a', 'German', 'soldier', 'who', 'fought', 'on', 'the', 'side', 'of', 'the', 'Americans', 'in', 'the', 'Revolutionary', 'War'] ['Baron', 'Johann', 'de', 'Kalb', '(', '1721–1780', ')', ',', 'a', 'German', 'soldier', 'who', 'fought', 'on', 'the', 'side', 'of', 'the', 'Americans', 'in', 'the', 'Revolutionary', 'War'] ['Named', 'after', 'Detmold', ',', 'Germany', '.'] ['Named', 'after', 'Michael', 'Dieterich', '.'] ['Named', 'after', 'Dissen', ',', 'Germany', '.'] [] [] [] [] [] ['Named', 'for', 'Elbe', 'River', 'by', 'founder', 'Henry', 'C.', 'Lutkens', '[', '11', ']', ':77'] ['named', 'after', 'the', 'formerly', 'German', 'town', 'Elbing', 'annexed', 'by', 'Poland', 'after', '1945'] [] [] [] ['From', 'the', 'German', 'phrase', '``', 'end', 'der', 'line', \"''\", 'meaning', '``', 'end', 'of', 'the', 'line', '.', \"''\"] ['Named', 'after', 'Frédéric', 'Émile', \"d'Erlanger\", '.'] ['Named', 'after', 'Albert', 'Etter', ',', 'an', 'American', 'plant', 'breeder', 'best', 'known', 'for', 'his', 'work', 'on', 'strawberry', 'and', 'apple', 'variety', '.'] ['Named', 'after', 'Charles', 'William', 'Ferdinand', ',', 'Duke', 'of', 'Brunswick', '.'] ['Named', 'after', 'the', 'German', 'immigrant', 'Hermann', 'and', 'Otto', 'Fischer', ',', 'who', 'were', 'brother', 'and', 'founder', 'of', 'Fischer', '.'] ['Named', 'after', 'Flensburg', ',', 'Germany', '.'] ['``', 'Franken', \"''\", 'represents', 'the', 'Province', 'of', 'Franconia', 'in', 'the', 'Kingdom', 'of', 'Bavaria', ',', 'home', 'of', 'the', 'Franks', ',', 'where', 'the', 'original', 'settler', 'were', 'from', '.', 'The', 'German', 'word', '``', 'Mut', \"''\", 'mean', 'courage', ';', 'thus', ',', 'the', 'name', 'Frankenmuth', 'mean', '``', 'courage', 'of', 'the', 'Franconians', '.', '``', '[', '14', ']'] [] [] [] [] ['Named', 'after', 'Freiburg', 'im', 'Breisgau', '.'] ['Named', 'after', 'Freiburg', 'im', 'Breisgau', '.'] ['Named', 'after', 'Freiburg', 'im', 'Breisgau', '.'] ['Named', 'after', 'Freiburg', 'im', 'Breisgau', '.'] ['Sources', 'disagree', 'a', 'to', 'which', 'Frederick', 'the', 'town', 'wa', 'named', 'for', ',', 'but', 'the', 'likeliest', 'candidate', 'are', 'Frederick', 'Calvert', ',', '6th', 'Baron', 'Baltimore', '(', 'one', 'of', 'the', 'proprietor', 'of', 'Maryland', '[', '15', ']', ')', ',', 'Frederick', 'Louis', ',', 'Prince', 'of', 'Wales', ',', '[', '16', ']', 'or', 'Frederick', '``', 'The', 'Great', \"''\", 'of', 'Prussia', '.'] ['Founded', 'in', '1846', 'and', 'named', 'after', 'Prince', 'Frederick', 'of', 'Prussia', '.'] [] ['Named', 'after', 'the', 'former', 'German', 'town', 'of', 'Friedheim', 'annexed', 'by', 'Poland', 'in', '1945'] ['Named', 'after', 'Fulda', ',', 'Germany', '.'] ['Named', 'after', 'Fulda', ',', 'Germany', '.'] ['Means', 'little', 'or', 'insignificant', 'in', 'German', '.'] [] [] ['Named', 'for', 'a', 'German', 'shopkeeper', '[', '11', ']', ':106'] ['Named', 'after', 'Jonathan', 'Hager', '.'] [] [] [] [] ['village'] [] [] [] [] [] [] [] [] [] ['three', 'place'] ['formerly', 'Hamburg'] ['unincorporated', 'community'] ['unincorporated', 'community'] ['borough'] [] ['unincorporated', 'community'] ['town'] ['town'] [] ['Baltimore', 'Light', 'Rail', 'station'] [] [] ['named', 'for', 'the', 'Electorate', 'of', 'Hanover', 'in', 'Germany', ',', 'because', 'King', 'George', 'I', 'of', 'Great', 'Britain', 'wa', 'Elector', 'of', 'Hanover', 'at', 'the', 'time'] [] [] ['Named', 'after', 'Adolph', 'Hegewisch', '.'] [] [] [] [] [] [] ['named', 'after', 'Hermann', 'der', 'Cherusker', ',', 'a', 'Germanic', 'leader', 'who', 'defeated', 'the', 'Romans', 'in', 'the', 'Battle', 'of', 'the', 'Teutoburg', 'Forest', 'in', 'the', 'year', '9', '[', '17', ']'] [] [] [] [] ['Means', '``', 'high', 'forest', \"''\", 'in', 'German', '.'] [] [] ['Founded', 'and', 'named', 'after', 'William', 'Hoehne', ',', 'a', 'German', 'immigrant', '.'] [] [] [] ['named', 'after', 'Alexander', 'von', 'Humboldt', '(', '1769–1859', ')', ',', 'German', 'naturalist', 'and', 'explorer'] ['named', 'after', 'Alexander', 'von', 'Humboldt', '(', '1769–1859', ')', ',', 'German', 'naturalist', 'and', 'explorer'] ['named', 'after', 'Alexander', 'von', 'Humboldt', '(', '1769–1859', ')', ',', 'German', 'naturalist', 'and', 'explorer'] ['named', 'after', 'Alexander', 'von', 'Humboldt', '(', '1769–1859', ')', ',', 'German', 'naturalist', 'and', 'explorer'] ['A', 'neighborhood', 'in', 'Chicago', '.'] ['Named', 'after', 'Innsbruck', '.'] ['Named', 'after', 'Innsbruck', '.'] ['Named', 'after', 'Innsbruck', '.'] [] ['Named', 'for', 'Jena', ',', 'Germany', 'after', 'Napoleon', 'won', 'the', 'Battle', 'of', 'Jena-Auerstedt', '.', '[', '18', ']'] ['Named', 'after', 'Karlsruhe', ',', 'Germany', '.'] [] [] ['Named', 'after', 'Kiel', ',', 'Germany', '.'] ['Named', 'after', 'John', 'Kieler', ',', 'a', 'Prussian', 'immigrant', '.'] ['took', 'it', 'name', 'in', 'the', '18th', 'century', 'from', 'a', 'local', 'tavern', 'named', 'the', 'King', 'of', 'Prussia', 'Inn', ',', 'named', 'after', 'King', 'Frederick', 'the', 'Great', 'of', 'Prussia'] [] [] [] ['Named', 'after', 'Otto', 'von', 'Kotzebue', '.'] [] ['Named', 'after', 'the', 'Kranz', 'brother', ',', 'who', 'were', 'German', 'settler', '.'] ['Named', 'after', 'Rudolph', 'Kremmling', '.'] ['Named', 'after', 'Sebastian', 'Kronenwetter', ',', 'an', 'immigrant', 'from', 'Württemberg', '.', '[', '19', ']'] ['Named', 'after', 'various', 'place', 'called', '``', 'Kulm', \"''\", 'from', 'which', 'German', 'immigrant', 'originated', '.', '[', '20', ']'] ['the', 'former', 'name', 'of', 'Marlin', ',', 'Washington'] ['Named', 'after', 'Lenzburg', '.'] ['Named', 'after', 'a', 'Volga', 'German', 'settlement'] ['named', 'after', 'a', 'castle', 'in', 'German-speaking', 'Bohemia'] [] [] [] [] ['named', 'for', 'the', 'German', 'Duchy', 'of', 'Brunswick-Lüneburg'] ['Named', 'after', 'Martin', 'Luther'] ['Named', 'after', 'Martin', 'Luther'] ['Named', 'after', 'Lützen', ',', 'Germany', '.'] [] [] [] ['Named', 'after', 'Hohenlinden', ',', 'Germany', '.'] [] ['A', 'hamlet', 'in', 'the', 'town', 'of', 'Hector', ',', 'New', 'York'] ['Named', 'after', 'the', 'German', 'state', 'of', 'Mecklenburg-Strelitz', ',', 'or', 'for', 'Charlotte', 'of', 'Mecklenburg', ',', 'queen', 'consort', 'of', 'George', 'III', 'of', 'Great', 'Britain'] ['Named', 'for', 'Charlotte', 'of', 'Mecklenburg', ',', 'queen', 'consort', 'of', 'George', 'III', 'of', 'Great', 'Britain'] ['Named', 'after', 'German', 'Native', 'John', 'Meiners'] ['A', 'misspelling', 'of', 'the', 'original', 'name', ':', '``', 'Mittlestadt', '.', \"''\"] ['Named', 'after', 'Minden', ',', 'Germany', '.'] ['Named', 'after', 'Frederick', 'Muhlenberg', '.'] ['Named', 'after', 'Frederick', 'Muhlenberg', '.'] [] [] ['named', 'after', 'a', 'Volga', 'German', 'settlement'] [] ['Town', 'in', 'Rensselaer', 'County'] ['Named', 'for', 'the', 'Duchy', 'of', 'Nassau', 'in', 'Germany'] ['Named', 'for', 'the', 'Duchy', 'of', 'Nassau', 'in', 'Germany'] [] [] ['Named', 'after', 'the', 'region', 'of', 'Baden', 'in', 'Germany', '.'] [] ['town'] ['village'] [] [] ['Area', 'resident', 'put', 'the', 'accent', 'on', 'the', 'first', 'syllable', 'of', 'Berlin', '/nuːˈbɜːrlɪn/', ',', 'rather', 'than', 'the', 'second', '.'] ['established', 'in', '1845', 'by', 'Prince', 'Carl', 'of', 'Solms-Braunfels', ',', 'Commissioner', 'General', 'of', 'the', 'Adelsverein', ';', 'Prince', 'Solms', 'named', 'the', 'settlement', 'in', 'honor', 'of', 'his', 'home', 'of', 'Solms-Braunfels', ',', 'Germany', '.'] [] [] ['named', 'after', 'the', 'former', 'German', 'town', 'Glatz', 'annexed', 'by', 'Poland', 'after', '1945'] ['Named', 'after', 'Leipzig', ',', 'Germany', '.'] ['Named', 'after', 'Melle', ',', 'Germany', '.'] [] [] [] [] [] [] [] [] [] ['Named', 'after', 'Michael', 'Ohlman', '.'] [] [] [] ['Named', 'after', 'Osnabruck', 'in', 'South', 'Stormont', ',', 'Ontario', 'which', 'get', 'it', 'namesake', 'from', 'Osnabrück', ',', 'Germany', '.'] [] ['Named', 'after', 'Paderborn', ',', 'Germany', '.'] [] [] [] ['named', 'after', 'a', 'Volga', 'German', 'settlement'] ['Named', 'after', 'Philip', 'Deidesheimer', ',', 'a', 'German', 'immigrant', '.'] ['Named', 'after', 'Francis', 'Xavier', 'Pierz', '(', 'Pierz', 'wa', 'the', 'German', 'version', 'of', 'his', 'last', 'name', ':', 'Pirc', ')', '.'] ['German', 'name', 'for', 'Plzeň', ',', 'Czech', 'Republic', '.'] [] [] [] ['The', 'town', 'is', 'named', 'after', 'the', 'city', 'of', 'Potsdam', 'in', 'Germany', '.'] [] ['Named', 'after', 'the', 'Principality', 'of', 'Waldeck', 'and', 'Pyrmont', 'in', 'Germany', '.'] [] [] ['Named', 'after', 'Swiss-German', 'immigrant', 'Henry', 'Rosenberg', '.'] ['Named', 'after', 'a', 'town', 'in', 'formerly', 'German-speaking', 'Bohemia'] [] ['Named', 'after', 'Daniel', 'Saeger', '.'] ['Founded', 'by', 'John', 'A.', 'Roebling', ',', 'a', 'German', 'immigrant', '.'] [] ['Named', 'after', 'the', 'area', 'of', 'Schaumburg', 'in', 'Germany', '.', '[', '21', ']'] [] [] [] ['named', 'in', 'honor', 'of', 'Gustav', 'Schleicher', ',', 'a', 'veteran', 'of', 'the', 'Confederate', 'Army', '[', '22', ']', '[', '23', ']'] [] [] ['named', 'for', 'William', 'Schley', ',', 'United', 'States', 'representative', 'and', 'thirty-sixth', 'governor', 'of', 'Georgia'] [] ['named', 'after', 'a', 'Volga', 'German', 'settlement'] [] [] [] ['Named', 'after', 'Carl', 'Schurz', ',', 'a', 'German', 'immigrant', 'who', 'became', 'the', 'United', 'States', 'Secretary', 'of', 'the', 'Interior', '.'] ['Named', 'after', 'a', 'Black', 'Sea', 'German', 'settlement'] ['Named', 'after', 'Franz', 'Sigel', ',', 'a', 'German', 'general', 'in', 'the', 'Union', 'military', '.'] ['Named', 'after', 'the', 'former', 'German', 'land', 'of', 'Silesia'] ['Neighborhood', 'in', 'Denver', ',', 'Colorado'] [] ['Named', 'after', 'John', 'Valentine', 'Steger', ',', 'and', 'immigrant', 'from', 'Ulm', ',', 'Germany', '.'] [] [] [] [] [] [] ['Named', 'for', 'Baron', 'von', 'Steuben', ',', 'a', 'German', 'general', 'who', 'fought', 'on', 'the', 'American', 'side', 'in', 'the', 'American', 'Revolutionary', 'War', '.'] [] [] [] [] [] [] [] [] [] [] [] [] ['named', 'after', 'a', 'town', 'of', 'former', 'German', 'East', 'Prussia'] ['named', 'after', 'formerly', 'Austrian', 'town'] ['Named', 'after', 'Ulm', ',', 'Germany', '.', '[', '24', ']'] ['Named', 'in', '1913', 'for', 'Martin', 'Vader', '[', '11', ']', ':323'] [] [] [] [] ['ghost', 'town'] ['Named', 'after', 'Count', 'Ludwig', 'Joseph', 'von', 'Boos-Waldeck', '.', '[', '25', ']'] ['Name', 'meaning', 'forest', 'home', '.'] ['Named', 'in', 'honor', 'of', 'William', 'Waldorf', 'Astor', '.'] ['Compound', 'Wald', 'a', 'German', 'Word', 'for', 'forest', 'meaning', '``', 'forestport', \"''\"] ['Named', 'after', 'Fred', 'Walsen', ',', 'a', 'German', 'immigrant', '.'] [] [] [] [] ['Former/alternate', 'name', 'of', 'Vroman', ',', 'Colorado', '.'] [] ['Named', 'after', 'the', 'region', 'of', 'Westphalia', 'in', 'Germany', '.'] ['Named', 'after', 'Henry', 'Wickenburg', ',', 'a', 'Prussian', 'prospector', '.'] ['Named', 'after', 'Baltic', 'German', 'explorer', 'Ferdinand', 'von', 'Wrangel', '.'] [] [] []\n"
     ]
    }
   ],
   "source": [
    "print(doc_origin_notes)"
   ]
  },
  {
   "cell_type": "code",
   "execution_count": 35,
   "metadata": {},
   "outputs": [],
   "source": [
    "## Load extracted data into pandas df \n",
    "## Extract person names and geographic place names from list of place names of German origin in the United States \n",
    "## Print persons of interest with count for further analysis\n",
    "\n",
    "## Initialize empty pd data frames\n",
    "df_extracted_original_places = pd.DataFrame()\n",
    "df_extracted_persons = pd.DataFrame()\n",
    "list_extracted_original_places=[]\n",
    "list_extracted_persons=[]\n",
    "\n",
    "## Extract natural persons and geographic entities\n",
    "# Convert origin notes from list to string  \n",
    "\n",
    "\n",
    "\n",
    "origin_notes_str = ' '.join([str(elem) for elem in origin_notes])\n",
    "nlp = spacy.load(\"en_core_web_sm\")\n",
    "doc_origin_notes = nlp(origin_notes_str)\n",
    "\n",
    "\n",
    "for ent in doc_origin_notes.ents:\n",
    "    if ent.label_ == \"PERSON\":        \n",
    "        list_extracted_persons.append(ent.text)\n",
    "    elif ent.label_ == \"GPE\":\n",
    "        list_extracted_original_places.append(ent.text)\n",
    "\n",
    "## Make places unique\n",
    "list_extracted_original_places=list(set(list_extracted_original_places))        \n",
    "        \n",
    "\n",
    "df_extracted_original_places = pd.DataFrame({'Original Places': list_extracted_original_places})\n",
    "df_extracted_persons = pd.DataFrame({'Persons of Interest': list_extracted_persons})\n",
    "#df_extracted_original_places\n",
    "#df_extracted_persons\n",
    "#df_extracted_persons['Persons of Interest'].value_counts()\n",
    "\n",
    "## Export place names to csv (uncomment only if new list needed) but keep!\n",
    "#df_extracted_original_places.to_csv(r'c:\\temp\\extracted_original_places.csv', index = False, header = False)"
   ]
  },
  {
   "cell_type": "code",
   "execution_count": null,
   "metadata": {},
   "outputs": [],
   "source": []
  },
  {
   "cell_type": "code",
   "execution_count": 14,
   "metadata": {},
   "outputs": [],
   "source": []
  },
  {
   "cell_type": "code",
   "execution_count": null,
   "metadata": {},
   "outputs": [],
   "source": [
    "## Functions English\n",
    "\n",
    " ##Load available trained pipelines for English\n",
    "\n",
    "\n",
    "### Another function for stop words removal third attempt\n",
    "def spacy_stop_word_remover(soup):\n",
    "    sp = spacy.load('en_core_web_sm')\n",
    "    all_stopwords = sp.Defaults.stop_words\n",
    "    text = soup\n",
    "    words = [word for word in text.split() if word.lower() not in all_stopwords]\n",
    "    new_text = \" \".join(words)\n",
    "    #print(new_text)\n",
    "    print(\"Old length: \", len(text))\n",
    "    print(\"New length: \", len(new_text))\n",
    "    return new_text\n",
    "\n",
    "\n",
    "## spacy lemmatizer function\n",
    "def spacy_lemmatize(list_to_lemmatize):\n",
    "    sp = spacy.load('en_core_web_sm')\n",
    "    text_to_lemma = sp(list_to_lemmatize)\n",
    "    text_to_return = \"\"\n",
    "    for word in text_to_lemma:\n",
    "        #print(word.text,  word.lemma_)\n",
    "        text_to_return=text_to_return + \" \" + word.lemma_\n",
    "    return text_to_return\n",
    "\n",
    "## Simple NLTK sentiment intensity analyser function\n",
    "def nltk_sentiment_analyser(text):\n",
    "    input_txt = text\n",
    "    \n",
    "    sia = SentimentIntensityAnalyzer()\n",
    "    polscores=sia.polarity_scores(input_txt)\n",
    "    return polscores\n",
    "\n",
    "## Spacy sentiment analyser English\n",
    "\n",
    "def spacy_sentiment_analyser_en(text_to_analyse):\n",
    "    nlp = spacy.load('en_core_web_sm')\n",
    "    nlp.add_pipe('spacytextblob')\n",
    "    text=text_to_analyse\n",
    "    doc = nlp(text)\n",
    "    print(\"The polarity of the English text is: \" + str(doc._.polarity))      # Polarity: -0.125\n",
    "    print(\"The subjectivity of the English text is: \" + str(doc._.subjectivity))  # Sujectivity: 0.9\n",
    "    #doc._.assessments"
   ]
  },
  {
   "cell_type": "code",
   "execution_count": null,
   "metadata": {},
   "outputs": [],
   "source": [
    "## Functions German\n",
    "\n",
    "### Stop words removal German\n",
    "def spacy_stop_word_remover_german(soup):\n",
    "    sp = spacy.load('de_core_news_sm')\n",
    "    all_stopwords = sp.Defaults.stop_words\n",
    "    text = soup\n",
    "    words = [word for word in text.split() if word.lower() not in all_stopwords]\n",
    "    new_text = \" \".join(words)\n",
    "    #print(new_text)\n",
    "    print(\"Old length: \", len(text))\n",
    "    print(\"New length: \", len(new_text))\n",
    "    return new_text\n",
    "\n",
    "\n",
    "## Spacy lemmatizer function German\n",
    "def spacy_lemmatize_german(list_to_lemmatize):\n",
    "    sp = spacy.load('de_core_news_sm')\n",
    "    text_to_lemma = sp(list_to_lemmatize)\n",
    "    text_to_return = \"\"\n",
    "    for word in text_to_lemma:\n",
    "        #print(word.text,  word.lemma_)\n",
    "        text_to_return=text_to_return + \" \" + word.lemma_\n",
    "    return text_to_return\n",
    "\n",
    "## Spacy sentiment analyser German\n",
    "def spacy_sentiment_analyser_de(text_to_analyse):\n",
    "    nlp = spacy.load('de_core_news_sm')\n",
    "    nlp.add_pipe('spacytextblob')\n",
    "    text=text_to_analyse\n",
    "    doc = nlp(text)\n",
    "    print(\"The polarity of the German text is: \" + str(doc._.polarity))      # Polarity: -0.125\n",
    "    print(\"The subjectivity of the German text is: \" + str(doc._.subjectivity))  # Sujectivity: 0.9"
   ]
  },
  {
   "cell_type": "code",
   "execution_count": null,
   "metadata": {},
   "outputs": [],
   "source": []
  },
  {
   "cell_type": "code",
   "execution_count": null,
   "metadata": {},
   "outputs": [],
   "source": [
    "## GIT Connect\n",
    "# Set remote origin\n",
    "!git init  \n",
    "#!git remote add origin https://github.com/HGC243/Assignment_3.git\n",
    "!git remote set-url origin https://github.com/HGC243/Assignment_3.git"
   ]
  },
  {
   "cell_type": "code",
   "execution_count": null,
   "metadata": {},
   "outputs": [],
   "source": [
    "## Check GIT Status\n",
    "print('Status:')\n",
    "!git status\n",
    "\n",
    "# Add files to GIT\n",
    "print('Files to add (This will be empty if there are no new files):')\n",
    "!git add ."
   ]
  },
  {
   "cell_type": "code",
   "execution_count": null,
   "metadata": {},
   "outputs": [],
   "source": [
    "## Git Commit\n",
    "#!git commit -m \"End of day dd/mm/2021 commit\"\n",
    "!git commit -m \"End of day dd/mm/2021 commit\""
   ]
  },
  {
   "cell_type": "code",
   "execution_count": null,
   "metadata": {},
   "outputs": [],
   "source": [
    "## Git push all\n",
    "!git push --all"
   ]
  },
  {
   "cell_type": "code",
   "execution_count": null,
   "metadata": {},
   "outputs": [],
   "source": []
  },
  {
   "cell_type": "code",
   "execution_count": null,
   "metadata": {},
   "outputs": [],
   "source": [
    "## Scrape website Martin Luther (English)\n",
    "url_ml = 'https://en.wikipedia.org/wiki/Martin_Luther'\n",
    "html_ml = urlopen(url_ml) \n",
    "soup_ml = BeautifulSoup(html_ml, 'html.parser').get_text()"
   ]
  },
  {
   "cell_type": "code",
   "execution_count": null,
   "metadata": {},
   "outputs": [],
   "source": [
    "## Scrape website Martin Luther (German)\n",
    "url_ml_de = 'https://de.wikipedia.org/wiki/Martin_Luther'\n",
    "html_ml_de = urlopen(url_ml_de) \n",
    "soup_ml_de = BeautifulSoup(html_ml_de, 'html.parser').get_text()\n"
   ]
  },
  {
   "cell_type": "code",
   "execution_count": null,
   "metadata": {},
   "outputs": [],
   "source": [
    "## Steps to cleanse scraped Wikipedia site Martin Luther (English)\n",
    "## 1. Call stop word remover\n",
    "no_stop_words_ml=spacy_stop_word_remover(soup_ml)\n",
    "\n",
    "## 2. Call lemmatizer\n",
    "ml_lemmatized = spacy_lemmatize(no_stop_words_ml)\n",
    "\n",
    "## 4. Run sentiment analysis Spacy\n",
    "spacy_sentiment_analyser_en(ml_lemmatized)  \n",
    "\n",
    "## 4. Run sentiment analysis NLTK (English only)\n",
    "ml_sentiment=nltk_sentiment_analyser(ml_lemmatized)\n",
    "print(\"The polarity scores are:\\n\")\n",
    "print(ml_sentiment)"
   ]
  },
  {
   "cell_type": "code",
   "execution_count": null,
   "metadata": {},
   "outputs": [],
   "source": [
    "## Steps to cleanse scraped Wikipedia site Martin Luther (German)\n",
    "no_stop_words_ml_de =spacy_stop_word_remover_german(soup_ml_de)\n",
    "ml_lemmatized_de = spacy_lemmatize_german(no_stop_words_ml_de)\n",
    "spacy_sentiment_analyser_de(ml_lemmatized_de)"
   ]
  },
  {
   "cell_type": "code",
   "execution_count": null,
   "metadata": {},
   "outputs": [],
   "source": [
    "## Scrape website Otto von Bismarck (English)\n",
    "url_ovb = 'https://en.wikipedia.org/wiki/Otto_von_Bismarck'\n",
    "html_ovb = urlopen(url_ovb) \n",
    "soup_ovb = BeautifulSoup(html_ovb, 'html.parser').get_text()"
   ]
  },
  {
   "cell_type": "code",
   "execution_count": null,
   "metadata": {},
   "outputs": [],
   "source": [
    "## Scrape website Otto von Bismarck (German)\n",
    "url_ovb_de = 'https://de.wikipedia.org/wiki/Otto_von_Bismarck'\n",
    "html_ovb_de = urlopen(url_ovb_de) \n",
    "soup_ovb_de = BeautifulSoup(html_ovb_de, 'html.parser').get_text()"
   ]
  },
  {
   "cell_type": "code",
   "execution_count": null,
   "metadata": {},
   "outputs": [],
   "source": [
    "## Steps to cleanse scraped Wikipedia site Otto von Bismarck (English)\n",
    "no_stop_words_ovb=spacy_stop_word_remover(soup_ovb)\n",
    "ovb_lemmatized = spacy_lemmatize(no_stop_words_ovb)\n",
    "spacy_sentiment_analyser_en(ovb_lemmatized)  \n",
    "ovb_sentiment=nltk_sentiment_analyser(ovb_lemmatized)\n",
    "print(\"The polarity scores are:\\n\")\n",
    "print(ovb_sentiment)"
   ]
  },
  {
   "cell_type": "code",
   "execution_count": null,
   "metadata": {},
   "outputs": [],
   "source": [
    "## Steps to cleanse scraped Wikipedia site Otto von Bismarck (German)\n",
    "no_stop_words_ovb_de=spacy_stop_word_remover(soup_ovb_de)\n",
    "ovb_de_lemmatized = spacy_lemmatize_german(no_stop_words_ovb_de)\n",
    "spacy_sentiment_analyser_de(ovb_de_lemmatized)  \n",
    "ovb_de_sentiment=nltk_sentiment_analyser(ovb_de_lemmatized)\n",
    "print(\"The polarity scores are:\\n\")\n",
    "print(ovb_de_sentiment)"
   ]
  },
  {
   "cell_type": "code",
   "execution_count": 40,
   "metadata": {},
   "outputs": [],
   "source": [
    "## Scrape website Alexander von Humboldt (English)\n",
    "url_avh = 'https://en.wikipedia.org/wiki/Alexander_von_Humboldt'\n",
    "html_avh = urlopen(url_avh) \n",
    "soup_avh = BeautifulSoup(html_avh, 'html.parser').get_text()"
   ]
  },
  {
   "cell_type": "code",
   "execution_count": null,
   "metadata": {},
   "outputs": [],
   "source": [
    "## Scrape website Alexander von Humboldt (German)\n",
    "url_avh_de = 'https://de.wikipedia.org/wiki/Alexander_von_Humboldt'\n",
    "html_avh_de = urlopen(url_avh_de) \n",
    "soup_avh_de = BeautifulSoup(html_avh_de, 'html.parser').get_text()"
   ]
  },
  {
   "cell_type": "code",
   "execution_count": null,
   "metadata": {},
   "outputs": [],
   "source": [
    "## Steps to cleanse scraped Wikipedia site Otto von Bismarck (English)\n",
    "no_stop_words_avh=spacy_stop_word_remover(soup_avh)\n",
    "avh_lemmatized = spacy_lemmatize(no_stop_words_avh)\n",
    "spacy_sentiment_analyser_en(avh_lemmatized)  \n",
    "avh_sentiment=nltk_sentiment_analyser(avh_lemmatized)\n",
    "print(\"The polarity scores are:\\n\")\n",
    "print(avh_sentiment)"
   ]
  },
  {
   "cell_type": "code",
   "execution_count": null,
   "metadata": {},
   "outputs": [],
   "source": [
    "## Steps to cleanse scraped Wikipedia site Otto von Bismarck (German)\n",
    "no_stop_words_avh_de=spacy_stop_word_remover(soup_avh_de)\n",
    "avh_de_lemmatized = spacy_lemmatize_german(no_stop_words_avh_de)\n",
    "spacy_sentiment_analyser_de(avh_de_lemmatized)  \n",
    "avh_de_sentiment=nltk_sentiment_analyser(avh_de_lemmatized)\n",
    "print(\"The polarity scores are:\\n\")\n",
    "print(avh_de_sentiment)"
   ]
  },
  {
   "cell_type": "code",
   "execution_count": 6,
   "metadata": {},
   "outputs": [],
   "source": [
    "## Unused draft functions\n",
    "## I have left these here just to show how much time I have spent working through this whilst trying things out\n",
    "\n",
    "#def spacy_stop_word_remover(soup):\n",
    "#    sp = spacy.load('en_core_web_sm')\n",
    "#    soup_for_processing = soup\n",
    "#    all_stopwords = sp.Defaults.stop_words\n",
    "#    text_tokens = word_tokenize(soup_for_processing)\n",
    "#    tokens_without_sw= [word for word in text_tokens if not word in all_stopwords]\n",
    "#    return tokens_without_sw\n",
    "\n",
    "\n",
    "### NOT WORKING WELL\n",
    "\n",
    "#\n",
    "#   # Create list of word tokens\n",
    "#    token_list = []\n",
    "#    for token in doc:        \n",
    "#        token_list.append(token.text)\n",
    "#\n",
    "#    filtered_text =[] \n",
    "#\n",
    "#    for word in token_list:\n",
    "#        lexeme = nlp.vocab[word]\n",
    "#        if lexeme.is_stop == False:\n",
    "#            #print(word)\n",
    "#            filtered_text.append(word) \n",
    "#\n",
    "#    return filtered_text"
   ]
  },
  {
   "cell_type": "code",
   "execution_count": 3,
   "metadata": {},
   "outputs": [],
   "source": [
    "## Simple lemmatizer Function (only used for list of places)\n",
    "\n",
    "def simple_lemmatizer(list_of_words):\n",
    "    to_lemmatize=list_of_words\n",
    "    lmtzr = WordNetLemmatizer()\n",
    "    lemmatized = [[lmtzr.lemmatize(word) for word in word_tokenize(s)]for s in to_lemmatize]\n",
    "    return lemmatized\n",
    "#print(lemmatized)\n",
    "\n",
    "# getting length of list\n",
    "#length = len(lemmatized)\n",
    "#data = []  \n",
    "\n",
    "#for i in range(length):\n",
    "#    string = ' '.join(lemmatized[i])\n",
    "#    #print(string)\n",
    "#    data.append(string)\n"
   ]
  },
  {
   "cell_type": "code",
   "execution_count": null,
   "metadata": {},
   "outputs": [],
   "source": []
  },
  {
   "cell_type": "code",
   "execution_count": 44,
   "metadata": {},
   "outputs": [
    {
     "name": "stdout",
     "output_type": "stream",
     "text": [
      " Humboldt - Wikipedia Wikipedia 1769–1859 1843)Born14 September 1769Berlin German ConfederationResting School of Mines 1792)University no degree)University of Göttingen 1845–1862 Humboldt Current Humboldtian Thoreau Emerson 14 September 1769 May 1859 German Prussian 1767–1835).[6][7][8 Humboldt Humboldt Between 1799 and 1804 Humboldt Americas first 21 years Humboldt first the Atlantic Ocean South America Africa Humboldt Greek one first 1800 1831 2 Travels Europe Spanish American 1799–1804 3.1 3.2 Spanish 1799 3.3 1799–1800 3.4 1800 1804 Andes 1801–1803 3.6 1803–1804 1804 3.8 Travel 3.9 Latin American 1829 6.1 7 7.1 8 Humboldt 8.1 Humboldt Prussian 8.3 9.1 Honours\n",
      " Humboldt Humboldt Humboldt 9.6 9.6.1 Alexander von Humboldt Foundation 9.9 Dedications 9.10 10 10.1 10.2 11 14 14.1 15 15.1 15.2 15.3 Humboldt 14 September 1769.[15 Humboldt Humboldt Pomeranian the Prussian Army age 42 the Seven Years' War first Prussian 1766 Alexander Georg three two first 1779 Humboldt Kantian one Prussian more than 70% The Tegel Palace several years Alexander six months in 1787 the University of Frankfurt 25 April 1789 the University of Göttingen Göttingen the University of Göttingen Humboldt Dutch the fall of 1789 Mainz Georg Forster second Humboldt 1790 Mineralogische Beobachtungen 1790 The following year, 1790 Humboldt Humboldt first the Royal Society Humboldt South Sea Humboldt 1820 two later years Humboldt Humboldt Humboldt Freiberg School of Mines 1791 Neptunist the School of Mines Humboldt Humboldt the Freiberg School of Mines 1792 Prussian the Department of Mines Fichtel Humboldt his first year eight Humboldt Humboldt Latin 1793 Florae Fribergensis Physiologiae Chemicae Plantarum Humboldt Humboldt Humboldt two Humboldt Humboldt the years Humboldt Humboldt 1797 Humboldt three months Humboldt One Humboldt Humboldt Humboldt 1794 Humboldt Schiller Humboldt 7 June 1795 Schiller Die Lebenskraft Genius (The Life Force Rhodian Humboldt thousands 1792 1797 Humboldt 1795 19 November Humboldt one Humboldt Versuche 1797 Experiments on Stimulated Muscle and Nerve Fibres French Spanish American Humboldt Latin American Louis-Antoine de Bougainville Humboldt last five years French Europe Humboldt Humboldt two North Africans French French Humboldt Spanish 1799[edit Humboldt Spanish America Humboldt Americas German Humboldt the Spanish Enlightenment the Botanical Expedition 1783–1816 the Malaspina Expedition Spanish the Royal Botanical Garden 1755).[43 Crown 1779 one Humboldt Spanish America Humboldt Spanish Humboldt March 1799.[40 Humboldt Humboldt Prussian Humboldt Friedrich Georg Weitsch 1806 1799 Humboldt Bonpland the Natural History Museum Humboldt 1799–1800[edit Humboldt Amazon the Casiquiare River five-year 1856 Cassiquiare Humboldt 1799 the King of Spain Humboldt Bonpland 5 June 1799 six days Humboldt the New World 16 July South America Humboldt the Orinoco River Portuguese Pizarro two 18 Indians one Humboldt Indian the 16th to the 18th centuries Spanish Spanish South America 1777 1806.[42][49 Humboldt Humboldt Lake Valencia Humboldt Humboldt Guácharo Steatornis Guanoco Quelle Humboldt the night of 11–12 Simón Bolívar South America Humboldt the Venezuelan Bolívar 1804 Humboldt Humboldt February 1800 Humboldt the Orinoco River four months 1,725 miles 2,776 Orinoco Amazon Humboldt decades Maipures Atures Humboldt March 1800 Humboldt Humboldt Bonpland Humboldt Humboldt Personal Narrative (1814–29 Views of Nature 1807 Aspects of Nature 1849).[58 Two months later Indians Humboldt 1800 1804[edit Humboldt 24 November 1800 two 19 Cuban the Spanish Indies Humboldt Humboldt two Humboldt Bonpland German Humboldt Bonpland 5 March 1801 South America 30 March Humboldt second Spanish three-month first Cuban Valley three first Humboldt Arango Europe Humboldt 7 January 1804 29 April 1804 l'îsle de Cuba.[63]\n",
      "\n",
      "The Andes Chimborazo Friedrich Georg Weitsch 1810 first three months South America the Magdalena River Honda Bogotá 6 July 1801 Spanish the Royal Botanical Expedition 8 September 1801 Humboldt 1783 Bogotá Spanish Humboldt Mutis Humboldt first Humboldt French Baudin Humboldt the Cordillera Real 6 January 1802 Chimborazo Humboldt 19,286 feet 5,878 Incas centuries 1000 feet Humboldt Amazon Callao Humboldt Mercury 9 November Europe La Valenciana Santa María Regla de l'Amérique\n",
      " Aztec Humboldt 1810 Humboldt Bonpland Pacific Ecuadorian Humboldt Bonpland Humboldt Asian Humboldt Humboldt 15 February 1803 Guerrero April 1803 Cuernavaca, Morelos Spring.[71][72 Humboldt Bonpland Humboldt Humboldt Mexican Humboldt Bishop New Spain.[74]\n",
      " the year Mexican first Mexican Guerrero Humboldt a year later in 1804 the Political Essay Humboldt Humboldt Americas the Royal College of Mines the Royal Botanical Garden the Royal Academy of San Carlos 1799 Humboldt Humboldt Valenciana the University of Guanajuato Mexican Humboldt Humboldt One the General Mining Court Humboldt Royal College of Mines Humboldt Humboldt German Humboldt Spanish Humboldt Spanish America's Humboldt Mexican Inca Humboldt Humboldt Aztec 1790 the Dresden Codex European Mexican American Humboldt Jesuit Francisco Humboldt Buffon, de Pauw Humboldt Spanish America English 1811).[87 Humboldt Spanish 1804[edit the Louisiana Territory Humboldt Humboldt Humboldt the White House Humboldt Humboldt Humboldt the Declaration of Independence South American Humboldt English 1821.[91 Humboldt year-long the Louisiana Purchase New Spain Spanish Spanish Humboldt Essay on the Political Kingdom of New Spain 1810 Humboldt two Humboldt Treasury Humboldt less than two hours two years Humboldt six weeks Humboldt Europe 3 August 1804 Humboldt Spanish America some 4,000 the Red Army World War II German Humboldt Spanish American Russian the University of Potsdam the German State Library Prussian Cultural Heritage Foundation.[93 Latin American Humboldtian Humboldt decades' Humboldt Humboldt Bonpland the late nineteenth century the Malaspina Expedition the late twentieth century some 12,000 Humboldt Humboldt Spanish America the Political Essay European New World the New World Guillaume-Thomas Raynal Georges-Louis Leclerc Humboldt Humboldt one Humboldt American 1805 Humboldt 1804 Humboldt Humboldt Humboldt Humboldt Humboldtian Humboldt Humboldt Chimborazo Cotopaxi 1807 54 cm x 84 cm first French German 1807 Chimborazo approximately two feet three feet Ein Naturgemälde Humboldt South America Chimborazo Pacific Andean Chimborazo Amazonian Humboldt three Spanish Spanish American Humboldt first Humboldt 1817 first Earth the Paris Institute 7 December 1804 Andes Chimborazo Andes Himalayas Humboldt Valley Humboldt three 1836–39 Americas the fifteenth and sixteenth centuries Americas Humboldt Andean Humboldt European six million Indians forty percent non-Indian Whites (Spaniards American Spaniards the eighteenth century one third Mexican Humboldt American Spaniards Spanish Humboldt European between 40% and 60% Spanish Humboldt Humboldt Bishop Humboldt Spanish Humboldt Humboldt Spanish Humboldt Humboldt Humboldt Europe Humboldt two and a half years the spring of 1808 first two years twenty-one House Humboldt 1803 80 the Zocalo\n",
      "\n",
      "\n",
      "\n",
      "\n",
      "\n",
      "\n",
      "Statue Humboldt 1999 two Spanish Humboldt Waterfall the Basaltic Prisms of Humboldt 1807 Humboldt one first The American Philosophical Society[126 Americas the Prussian Academy of Sciences 1805.[127 the years the American Antiquarian Society (Worcester 1816;[128 1818 the New York Historical Society 1820 the American Academy of Arts and Sciences the American Ethnological Society 1843 the American Geographical and Statistical Society 1856.[130 the Royal Swedish Academy of Sciences 1810 The Royal Society Humboldt Mexican 1821 Mexican 1827 first Humboldt Mexican 1859 Humboldt Americas Humboldt 2,500 later years 1827 the Institut de France 12 May 1827 first 1827 Earth 18 September 1828 Russian 1829 Asia April 1836 the Royal Society British The Encyclopædia Britannica Eleventh Edition first 18th-century Venus 1869 the 100th year Humboldt Central Park.[135]\n",
      "Scholars Humboldt three First Humboldt Today Humboldt Second Humboldt 1869 One Humboldt Third anti-German the late 1800s German World War 1.[135 1959 Humboldt Humboldt Humboldt 1829 1811 1818 Asiatic Humboldt first Russian Prussian Russian Humboldt the Ural Mountains Humboldt Urals Humboldt Asia the British East India Company Humboldt Russians Humboldt Humboldt Russians Humboldt Russian Humboldt 100,000 Prussian 2,500–3,000 Russian 1200 20,000 Humboldt Urals Siberia Humboldt Cancrin Russian Humboldt French German Lake Baikal the Caspian Sea Humboldt Russians Humboldt the Department of Mines his advancing years Cancrin nine to ten hours Between May and November 1829 Russian twenty-five weeks 9,614 miles 15,472 Humboldt Russian one Humboldt Three Humboldt Spanish American two Russian Humboldt Humboldt Russian Spanish America Humboldt 1,000 miles 1,600 Tobolsk Humboldt Russian Humboldt the Siberian Highway a hundred miles 160 the end of July Humboldt Russian Central Asian Urals 8 months 15,500 658 12,244 Humboldt Russian Humboldt Humboldt Nicholas it.[150 Humboldt two Russian 1831 1843 three 2016 1829 five-year Spanish America the decades 1804 Humboldt Humboldt Humboldt later years Humboldt his later years the University of Berlin the winter 1829 Latin American first two Kosmos the years 1845 and 1847 Humboldt three one Humboldt Kantian German Humboldt the last decade years third fourth 1850–58 fifth 1862 Latin American One Humboldt Humboldt 1849 German two three first 1845 1848)—suffered Humboldt English two Elizabeth Juliana Leeves Sabine 4 1846–1858 5 1849–1858 4 German three German English 3 German 3 English German 2 1850 1851 5 German 1981 German 4 5 1862 German Atlas zu Alexander von Humboldt's Stuttgart Johnston The Physical Atlas of Natural Phenomena Humboldt French German Humboldt the Biodiversity Library.[163 Views of the Cordilleras and Monuments of the Indigenous Peoples Americas 2014 2009 2014 English Views of Nature.[166]\n",
      "\n",
      "Influence 1831 Humboldt Europe Humboldt Latin American Humboldt Bonpland Latin America Paraguay Paraguay Paraguay British Simón Bolívar's European Humboldt 1831 nearly 10 years Paraguay Humboldt 1858.[167 1818 Peruvian the Royal Mining School of Paris Mariano Eduardo de Rivero Humboldt Peruvian Humboldt 1807–1873 Humboldt Harvard.[168] the Boston Society of Natural History 1869 Humboldt Jewish the Academy of Science.[170] Humboldt Humboldt two Humboldt Beagle Americas one Humboldt American Humboldt Humboldt French Journal Humboldt Humboldt's Personal Narrative one two Natural Humboldt the 1840s the early 1800s Humboldt Humboldt Frederic Edwin Church Andes 1859 nineteenth-century Latin America Humboldt three European Frederic Edwin Church the nineteenth century Andean Humboldt Church 5 foot by 10 foot The Heart of the Andes Humboldt Humboldt a few days Church Cotopaxi three 1855 1859 North American Indians North American South America Humboldt 1855 South American Humboldt one first two 1846 to 1855 Humboldt two 1851 Pfeiffer second 1855 Europe Humboldt Pfeiffer 1843 Indians Frederic Edwin Church Cotopaxi 1855 Frederic Edwin Church Cotopaxi 1855 Frederic Edwin Church Cotopaxi 1862 Humboldt Humboldt Prussian Napoleonic the Treaty of Tilsit Prussian Humboldt 1814 Humboldt Three years later 1822 Congress the spring of 1823 Humboldt Between 1830 and 1848 Humboldt Louis-Philippe Orléans Humboldt Prussian three years 1830 to 1833 Louis-Philippe's Humboldt 8 April 1835 half June 1840 Humboldt Humboldt hours Humboldt Julius Schrader 1859 Metropolitan Museum of Art Humboldt Humboldtian Humboldt Varnhagen von Ense only eight months ago French Humboldt Humboldt thought\".[194 Humboldt Charlotte Hildebrand Diede Humboldt Bible Humboldt three Deity Humboldt Judaism Eduard Hildebrandt\n",
      " Humboldt Humboldt Henriette 25 19 May 1772 20 October 1803 21-year-old two years 1794 Humboldt Americas five years 1802 Ecuadorian Humboldt Europe Humboldt French daily 15 Humboldt Humboldt thirty 1834 1836 the Court at Sanssouci 1829.[209 Humboldt Four years Humboldt Humboldt Humboldt some thirty years 1908 Humboldt nearly 90 years old 1914 Homosexuality in Men and Women.[215 Humboldt Humboldt 24 February 1857 Humboldt the winter of 1858–1859 6 May 1859 89 Earth Heavens!\"[218 six Humboldt Humboldt Humboldt Tegel Humboldt Humboldt first Humboldt 14 September 1869 the New and Old Worlds Humboldt Park Humboldt Knight Grand Cross the Order of Saints Maurice 1863 Knight Grand Cross the Order of Guadalupe\n",
      "Species February 2015 Learn Humboldt Europeans Humboldt Humboldt Humboldt South American Andean Humboldt South-American Amazon Orinoco River Humboldt Araçari\n",
      "Hylocharis Humboldts Casignethus Humboldt Humboldt the Humboldt Current Andean Humboldt Bay—Bay in Northern California Humboldt South America Humboldt River Humboldt Lake United States[224 Humboldt Peak 4,287 4,940 West Humboldt Humboldt 1,617 5,308 1938–1939 Fiordland National Park 275 Lower Hollyford Valley Fiordland National Park Humboldt Humboldt Hacienda Humboldt Humboldt Humboldt Humboldt Humboldt Humboldt National Forest Humboldt-Toiyabe National Forest Nevada & California Humboldt Parkway 4877 Humboldt Humboldt Biological Resources Research Institute Humboldt University Humboldt Biological Resources Research Institute Bogotá Villa de Leiva Humboldt State University Humboldt German International School Montreal the Radboud University Nijmegen Dutch Hettner the University of Heidelberg Humboldt Alexander von Humboldt Foundation German German the 1920s World War II Foundation German German Humboldt Humboldt Kosmos June 2015 Learn German 1906 German 1986 three German 1988 De Nul Group 1998 South America Humboldt Humboldt Humboldt ages Humboldt Europe New World Humboldt Claude Louis Berthollet Humboldt During the first half of the present century one Humboldt 1829 1959 Humboldt the University of Havana\n",
      "\n",
      "\n",
      "\n",
      "\n",
      "\n",
      "\n",
      "Humboldt Humboldt Humboldt University of Berlin second Humboldt Central Park 1793 Humboldt Versuche Nervenfaser Pflanzenwelt 2 1797 Humboldt Mittel 1799 1805 German Türbingen 2 1831 Tübingen 1831 3 1843 1799–1804 1807 thirty 2 1810 English Cordilleras 2 English Views of the Cordilleras and Monuments of the Indigenous Peoples Americas University of Chicago Press 2014 4 1814–1834 1811 1811 English 1811 1799, 1800, 1801, 1802 1803/ Humboldt Humboldt 1805 English Essay on the Geography of Plants University of Chicago Press 2009 1823 English German l'îsle de Cuba 2 1828 English German 1833 Mexici Andibus Orinoci Amazonum 2 German 5 4 12 Erläuterungen \n",
      "Aphorismen von Gotthelf Fischer zusätzen Friedr 1794 Humboldt Traugott Bromme Varnhagen 1827 1858 Varnhagen Humboldt\n",
      "Ideen Messungen 10ten Grade 10ten 1799, 1800, 1801 1802 1803 Humboldt Peruvian South America Laubert's Memoir South America 1821 5 1817 German Türbingen the years 1799–1804/ French 7 First French 1815–26 1799 hasta 1804 Humboldt 5 1826 Vertheilhung Beilagen Excurse Rücksichten\n",
      " Mexique 2 1799, 1800, 1801, 1802 et 1803 Humboldt 2 1799, 1800, 1801 1803 1804 3 1801 1802 1804 3 1850 1884 1827 to 1858 Varnhagen Varnhagen Humboldt 2d German between the years 1827 and 1858 Varnhagen Varnhagen German 7 1815–1825 4500 Humboldt J. Oltmanns 1808 Valenciennes Gay-Lussac Latin America Bonpland, Aimé ( 1805–1859 116 1990 174 Humboldt Schelling the University of Berlin Friedrich Wilhelm Joseph Schelling—Biography Lara Ostaric Cambridge University Press 2014 218 116 Sciences Cambridge University Press 1990 169–188 Romanticism and Resistance: Humboldt and \" German Natural Philosophy in Natural Philosophy 2007 2015 31 25 September 2015 The Invention of Nature The New York Times 2014 Earth the General Physics of the Earth PDF 324 Earth PDF February 2 61b 29 June 2015 2009 IAEA-Inis Minding Nature August 2009 3–15 Worldcat.org The Forgotten Father of Environmentalism Atlantic 2020-01-14 Humboldt Nature Ecology & Evolution 3 9): 1265–1266 2019-08-29 ISSN 2397-334X. Humboldt 1853 13 1955 4-5 Clerke 1911 Humboldt 13 11th Cambridge University Press 1955 1995 13 17 2015 2015 1995 2019b 1995 76 136 Chronology 1769 to 1859 Personal Narrative of A Journey 1955 1955 54-55 Chronology 18 57 Wulf 2015 2015 Wulf 2015 1955 1955 Prentice Hall 2003 300–317 1991 517 1779 Essay on the Geography of Plants University of Chicago Press 2009 248 245 246–47 1801 1802 1803 1804 English the same year 1991 2012-03-10 2010-08 Instituto Venezolano del Asfalto INVEAS.org German 20 March 2021 2015 Icon Books Ltd. 2011 123 Wulf 63 Wulf 2015 362 62 Humboldt the Equinoctial Regions of America During the Years 1799–1804 Chapter 25 1853 Journey 1995 North America 1635 to 1840 The American Naturalist 13:12 December 1879 754–71 The University of Chicago Press 31 July 2012 116–17 190 Humboldt 1 Paris 1808 2010 El Cementerio Llullaillaco Spanish 40 43–62 S0718-10432010000200004 ISSN 0718-1043.[need Humboldt first Chimborazo 1880.Whymper 1892 Travels the Great Andes of the Equator 2010 Humboldt 50 247–262 Dec 28, 2018 Dec 28, 2018 1955 156 1991 527 Perfil del Camino de Acapulco Chart Nineteenth-century 2011 p.70 18 French Humboldt University of Chicago Press 1999 257 Humboldt 74 1991 1991 525 1803–2003 2003 156 Views of the Cordilleras and Monuments of the Indigenous Peoples Americas University of Chicago Press 2012 1991 523 1991 four 1811 1997 664 Ingo 2001-01-01 Northeastern Naturalist 8 43–56 1821 Humboldt 'America' 4 December 2013 6 April 2021 1 March 2017 A Geography of Enlightenment: The Critical Reception 319–39 University of Chicago Press 1999 2004 Years 1799–1804 1814 1 Humboldt Tableau Physique PNAS 2019 125 129 Identities Eighteenth-Century Stanford Stanford University Press 2001 2015 Humboldt first 1817 1955 Humboldt Cartographic Journal 119–23 Nineteenth-century Duke University 74–75 15e 1836–39 76 23 77 Humboldt 1811 French 8 December 1997 The Peopling of Mexico from Revolution The Population History of North America Cambridge University Press 29 June 2015 Humboldt Indians Humboldt Casta Painting Yale University Press Humboldt 71 Great Grupo Planeta May 31, 2011 Ediciones 2011 Humboldt 72 1749-1810 Cambridge University Press 1994 228 1997 Imperial Eyes: Travel Writing 1992 Brave Companions 138 180–13 Humboldt Hildebrandt Hirmer 2009 105 52 APS 2021-04-01 1955 204 Americanantiquarian.org 9 April 2018 Book of Members 1780–2010 Chapter H PDF American Academy of Arts and Sciences 7 April 2011 1955 2015 166 Humboldt 1999 Humboldt 1911 874 Geographical Review 96 3 399–415 July 4, 2016 The Hundredth Anniversary of the Death of Alexander von Humboldt\" The Hispanic American Historical Review 38 3 August 1958 394–96 171–74 199–200 199–200 60 1955 287 60 Humboldt Cancrin 2015 Wulf 2015 62 2015 203 1955 3 1843 307 2015 433 Dickinson & Howarth 1933 2015 235 1991 534 102 Allgemeine Zeitung 12 April 1849 1981 Cambridge Geographical Studies 15 Cambridge University Press Wolf-Dieter Grün English the Royal Society the German Historical Institute 1 October 1983 2015 413 the years 1799–1804/ French Biodiversitylibrary.org 9 April 2018 Views of the Cordilleras and Monuments of the Indigenous Peoples Americas University of Chicago Press 2014 University of Chicago Press 2009 Views of Nature University of Chicago Press 2014 2015 272 the Centennial Anniversary the Boston Society of Natural History 334–36 2015 17 19 21 22 23 1989 19 The Art of Science Views of the Cultures of the World Views of the Codilleras and Monuments of the Indigenous Peoples of the America: University of Chicago Press 2014 1827 to 1858 Varnhagen Varnhagen Humboldt 2d German Humboldt between the years 1827 and 1858 Varnhagen Varnhagen German Ships Adventure between the years 1826 and 1836 South America 110 2015 1958 1809–1882 2015 Humboldt Hildebrandt 2009 2015 11 Frederic Edwin Church 10, 2005 Frederic Edwin Church National Gallery of Art Smithsonian Institution Press 1989 Metropolitan Museum of Art 1993 Indians the Rocky Mountains Andes D. Appleton & Co. 1867 332–33 South American Indian National Gallery of Art 1992 1861 The Last Travels of Ida Pfeiffer Humboldt 96 141 1955 1955 311 Humboldt the New Infidelity Friedrich Kapp's Humboldt 1827 to 1858 Varnhagen Varnhagen Humboldt 1860 3 Humboldt 1860 Rudd & Carleton 194 2006 The Concept of Human Dignity French American ProQuest 305 1913 Humboldt The Foundations and Expressions Humboldt 56–60 Charlotte Hildebrand Diede 1849 2d German 2 1913 56 Humboldt 1827 to 1858 Varnhagen Varnhagen Humboldt 1860 Cambridge University Press Monthly 9 Science and Religion as Allies\"\n",
      "\n",
      "^ Notes 29 2015 2004 187–200 1992 256 2003 0415196159 29 2009 109 1955 363 2009 367 2004 1955 317 Magnus Die Homosexualitat 1914 500 1927 Sexual Inversion 2 39 Magnus Die Homosexualitat 1914 681 1911 Wulf 2015 1913 German 2 Ernst Mittler & Sohn 577 14 USDA 5 June 2012 Appendix D. List of Geographic Features Named 377–78 1941 PDF Humboldt-Universität Americas Bildner Center The Graduate Center The City University of New York New York Liberal Club 13 1874 13277 Hooker 6 1927 The Writings of Robert G Ingersoll (Dresden Edition 1900 1869 Popular Lectures on Scientific Subjects 1873 Humboldt 1860 4 May 17, 2014 2012 University of Chicago Press 1991 Chapter 23 the Spanish Monarchy, Creole Patriots the Liberal State 1492-1867 Cambridge University Press March 2019a Social Relations, Shared Practices the Challenges to Science The Journal of Modern History University of Chicago 91 2019b 1955 Humboldt The Life and Times Humboldt 1769–1859 1933 The Making of Geography Universal Digital Library Oxford Clarendon Press 9640382 2020 Smithsonian American Art Museum Humboldt Latin American 1995 University of Chicago Press 2006 Nineteenth-Century Exploration 2007 The Humboldt Current: A European Explorer American Oxford Oxford University Press 2009 the Shaping of America University of Chicago Press 2015 The Invention of Nature  the Lost Hero of Science Knopf 2011 Mapping Mountains Latin America University of Chicago Press 46 Humboldt Harper & Row Publishers 1973 2 Longmans 1873 Cañizares-Esguerra Humboldt 148–65 Philadelphia: University of Pennsylvania Press 2005 Centre Looks at Periphery Account of Mexican Science and Technology Journal of Iberian Latin American 94–113 200 Cultures of Natural History 287–304 Cambridge University Press 1996 Humboldt the Footsteps of the Illustrious Montreal & Kingston McGill-Queen's University Press 2017 1983 330–42 From Enlightenment Vision to Modern Science Humboldt's Visual Thinking 236–75 University of Chicago Press 1999 Humboldt Tension Harmony of Art and Science Frederic Edwin Church Smithsonian Institution Press 1989 Princeton University Press 2020 Differenzierung des Wissens 2007 281 European Traveler-Artists Nineteenth-Century 1996 51–61 1997 Oxford University Press 1963 Humboldts Preußen 2015 2017 Humboldt's 1803–2003 2003 Making Sense of the Pre-Columbian\" Spanish America Humboldt Humboldt 2010 Chapter 1 Humboldt Journey to the Top of the World Prentice Hall Press 1992 Hurst & Company 2018 1962 1980 1960 Humboldt Humboldt 1962 Humboldt Aztec Colonial Latin American Review 277–297 The Very Great Alexander von Humboldt Wulf 2015 Harvard University Press 2015 326 The New York Review of Books 16 22 October 2015 37–39 12 July 2019 Humboldt South America 6 April 2021 Humboldt 2005 English 2006 Humboldt Humboldt 2013 Home from Home 2012 German 2012 Chimborazo 1989 Wikiquote the University of Applied Sciences Offenburg the University of Kansas Humboldt Informationen German English Spanish French the Chair of Romance Literatures University of Potsdam Nijmegen Spanish Paris Observatory French Biodiversity Heritage Library \n",
      " Project Gutenberg LibriVox 45 minute BBC Radio 4 East German Marks 1964 21, 1976 1 December 1883 Monthly Humboldt 1900 95, 1960 252–256 Aelian The Natural History of Selborne 19th century the Origin of Species The Malay Archipelago Naturalist The Birds of America Naturalist The Royal Natural History 20th century The Study of Instinct Aggression Shearwaters 1851 1852 1853 1854 1855 1856 1857 1858 1859 1860 1861 1862 1863 1864 1865 1866 1867 1868 1869 1870 1871 1872 1873 1874 August 1876 1877 1878 1879 1880 1881 1882 1883 1884 1885 1886 1887 1888 1889 1890 1891 1892 1893 1894 1895 1896 1897 1898 1899 1900 19th century Humboldt Tibitó Honda Group La Venta Gualanday Flora & Tenza Valley 10,000 BP Humboldt 10,000 - 2800 BC 800 BC MythologyMyths El Dorado\n",
      "Monster of Lake Tota neighboursNorthern Hunza\n",
      "Hunzahúa Suamox\n",
      "Nompanim Bacatá\n",
      " Turmequé\n",
      "Diego de Torres Spanish the Chibchan Nations 1538 Freyle\n",
      "Friede\n",
      "Gamboa Humboldt Zerda\n",
      "Publications 1589 1638 1889 University of Pittsburgh 90087311 BNC 118554700 0000 2144 1671 NLI 000604228 000612965 001789695 000606299 2 NTA 02-A000082208 000021472 SELIBR 207611 1204265 495/32890 95193235 deaths18th-century naturalists19th-century naturalists19th-century German South AmericaExpeditions SpainExplorers SiberiaExplorers of South AmericaFellows the American Academy of Arts SciencesForeign Royal SocietyGerman LutheransGerman the St Petersburg Academy of the American Antiquarian SocietyMembers the Bavarian Academy of SciencesMembers the French Academy of SciencesMembers the Prussian Academy of SciencesMembers the Royal Swedish Academy of SciencesMuisca the Copley MedalGrand Crosses the Order of GuadalupeRecipients of the Pour le Mérite (civil class)Knights Grand Cross of the Order of Saints Maurice Jena alumniViadrina European University 1911 Wikisource German January 2021CS1 Spanish es)Wikipedia March 2021CS1 French January 2016Articles German Spanish French June 2015Articles July 2015Articles December 2017Articles July 2017Articles February 2015All June 2015Botanists WikidataArticles Spanish French Biodiversity Heritage Library LibriVox Popular Science MonthlyWikipedia BNC Botanist GND identifiersWikipedia ICCU identifiersWikipedia LCCN identifiersWikipedia LNB identifiersWikipedia NDL NKC NLA NLI NLK identifiersWikipedia NLP identifiersWikipedia NLR RSL identifiersWikipedia SELIBR ULAN 34 Navigation menu Variants\n",
      "\n",
      "\n",
      "\n",
      "\n",
      "\n",
      "\n",
      "\n",
      "\n",
      "\n",
      "\n",
      " Wikimedia CommonsWikispeciesWikiquoteWikisource\n",
      "\n",
      "\n",
      "\n",
      "\n",
      "\n",
      " ViệtVolapükWinaray吴语ייִדיש粵語Žemaitėška中文 6 April 2021 00:27  the Creative Commons Attribution-ShareAlike License the Wikimedia Foundation, Inc.\n"
     ]
    }
   ],
   "source": [
    "## Started test to strip out persons and GPE from wiki text blob\n",
    "\n",
    "nlp = spacy.load(\"en_core_web_sm\")\n",
    "doc = nlp(soup_avh)\n",
    "list_extracted_text=\"\"\n",
    "for ent in doc.ents:\n",
    "    if ent.label_ == \"PERSON\":        \n",
    "        #print()\n",
    "        continue\n",
    "    elif ent.label_ == \"GPE\":\n",
    "        #print()\n",
    "        continue\n",
    "    else:\n",
    "        list_extracted_text=list_extracted_text + \" \" + ent.text\n",
    "        \n",
    "print(list_extracted_text)"
   ]
  },
  {
   "cell_type": "code",
   "execution_count": null,
   "metadata": {},
   "outputs": [],
   "source": [
    "\n",
    "def text_cleanser(text):\n",
    "    nlp = spacy.load(\"en_core_web_sm\")\n",
    "    text_to_cleanse = text\n",
    "    listToStr = ' '.join([str(elem) for elem in text])\n",
    "    doc = nlp(listToStr)\n",
    "    #doc = nlp(text_to_cleanse)\n",
    "    return doc\n",
    "text_cleaned=text_cleaner(origin_notes_lemmatized)"
   ]
  },
  {
   "cell_type": "code",
   "execution_count": null,
   "metadata": {},
   "outputs": [],
   "source": []
  }
 ],
 "metadata": {
  "kernelspec": {
   "display_name": "Python 3",
   "language": "python",
   "name": "python3"
  },
  "language_info": {
   "codemirror_mode": {
    "name": "ipython",
    "version": 3
   },
   "file_extension": ".py",
   "mimetype": "text/x-python",
   "name": "python",
   "nbconvert_exporter": "python",
   "pygments_lexer": "ipython3",
   "version": "3.8.5"
  }
 },
 "nbformat": 4,
 "nbformat_minor": 4
}
